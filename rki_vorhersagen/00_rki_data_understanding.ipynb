{
 "cells": [
  {
   "cell_type": "markdown",
   "metadata": {},
   "source": [
    "# <span style=\"color:#f37726\">00 RKI Data Understanding</span>"
   ]
  },
  {
   "cell_type": "markdown",
   "metadata": {},
   "source": [
    "**Ziele des Notebooks:**\n",
    "- Datensatz laden\n",
    "- Überlick über die Größe erhalten\n",
    "- Attribute in Kontext setzen\n",
    "- Räumliche und zeitliche Aspekte verstehen"
   ]
  },
  {
   "cell_type": "code",
   "execution_count": 1,
   "metadata": {},
   "outputs": [],
   "source": [
    "# Benötigte Bibliotheken für dieses Notebook\n",
    "import numpy as np\n",
    "import os\n",
    "import pandas as pd"
   ]
  },
  {
   "cell_type": "markdown",
   "metadata": {},
   "source": [
    "## Der Datensatz\n",
    "\n",
    "**Laden**"
   ]
  },
  {
   "cell_type": "markdown",
   "metadata": {},
   "source": [
    "Der Datensatz lässt sich tagesaktuell als csv-Datei über das [Datenhub des Robert Koch-Institut](https://www.arcgis.com/home/item.html?id=f10774f1c63e40168479a1feb6c7ca74) beziehen.<br>Im Folgenden arbeiten wir mit der Version vom 13.04.2021."
   ]
  },
  {
   "cell_type": "code",
   "execution_count": 2,
   "metadata": {},
   "outputs": [],
   "source": [
    "# Laden des Datensatzes als pandas DataFrame\n",
    "data = pd.read_csv(r'data/RKI_COVID19.csv')\n",
    "df = pd.DataFrame(data)"
   ]
  },
  {
   "cell_type": "markdown",
   "metadata": {},
   "source": [
    "**Größe**"
   ]
  },
  {
   "cell_type": "code",
   "execution_count": 3,
   "metadata": {},
   "outputs": [
    {
     "name": "stdout",
     "output_type": "stream",
     "text": [
      "Größe der csv-Datei: 251.956545 MB\n"
     ]
    }
   ],
   "source": [
    "size_bytes = os.stat(r'data/RKI_COVID19.csv').st_size\n",
    "print(\"Größe der csv-Datei: \"+ str(size_bytes/1000000) +\" MB\")"
   ]
  },
  {
   "cell_type": "code",
   "execution_count": 4,
   "metadata": {},
   "outputs": [
    {
     "name": "stdout",
     "output_type": "stream",
     "text": [
      "Form des DataFrame: (1652695, 18)\n"
     ]
    }
   ],
   "source": [
    "print(\"Form des DataFrame: \"+ str(df.shape))"
   ]
  },
  {
   "cell_type": "markdown",
   "metadata": {},
   "source": [
    "**Attribute**"
   ]
  },
  {
   "cell_type": "code",
   "execution_count": 5,
   "metadata": {
    "scrolled": false
   },
   "outputs": [
    {
     "data": {
      "text/html": [
       "<div>\n",
       "<style scoped>\n",
       "    .dataframe tbody tr th:only-of-type {\n",
       "        vertical-align: middle;\n",
       "    }\n",
       "\n",
       "    .dataframe tbody tr th {\n",
       "        vertical-align: top;\n",
       "    }\n",
       "\n",
       "    .dataframe thead th {\n",
       "        text-align: right;\n",
       "    }\n",
       "</style>\n",
       "<table border=\"1\" class=\"dataframe\">\n",
       "  <thead>\n",
       "    <tr style=\"text-align: right;\">\n",
       "      <th></th>\n",
       "      <th>beschreibung</th>\n",
       "      <th>beispiel</th>\n",
       "      <th>datentyp</th>\n",
       "    </tr>\n",
       "    <tr>\n",
       "      <th>attribut</th>\n",
       "      <th></th>\n",
       "      <th></th>\n",
       "      <th></th>\n",
       "    </tr>\n",
       "  </thead>\n",
       "  <tbody>\n",
       "    <tr>\n",
       "      <th>FID</th>\n",
       "      <td>Index in der csv-Datei</td>\n",
       "      <td>1557496</td>\n",
       "      <td>int64</td>\n",
       "    </tr>\n",
       "    <tr>\n",
       "      <th>IdBundesland</th>\n",
       "      <td>Id des Bundeslandes</td>\n",
       "      <td>15</td>\n",
       "      <td>int64</td>\n",
       "    </tr>\n",
       "    <tr>\n",
       "      <th>Bundesland</th>\n",
       "      <td>Name des Bundeslandes</td>\n",
       "      <td>Sachsen-Anhalt</td>\n",
       "      <td>object</td>\n",
       "    </tr>\n",
       "    <tr>\n",
       "      <th>Landkreis</th>\n",
       "      <td>Name des Landkreises</td>\n",
       "      <td>LK Anhalt-Bitterfeld</td>\n",
       "      <td>object</td>\n",
       "    </tr>\n",
       "    <tr>\n",
       "      <th>Altersgruppe</th>\n",
       "      <td>Altersgruppe des Falles aus 6 Gruppen</td>\n",
       "      <td>A35-A59</td>\n",
       "      <td>object</td>\n",
       "    </tr>\n",
       "    <tr>\n",
       "      <th>Geschlecht</th>\n",
       "      <td>Geschlecht des Falle</td>\n",
       "      <td>W</td>\n",
       "      <td>object</td>\n",
       "    </tr>\n",
       "    <tr>\n",
       "      <th>AnzahlFall</th>\n",
       "      <td>Anzahl der Fälle in der entsprechenden Gruppe</td>\n",
       "      <td>1</td>\n",
       "      <td>int64</td>\n",
       "    </tr>\n",
       "    <tr>\n",
       "      <th>AnzahlTodesfall</th>\n",
       "      <td>Anzahl der Todesfälle in der entsprechenden Gr...</td>\n",
       "      <td>0</td>\n",
       "      <td>int64</td>\n",
       "    </tr>\n",
       "    <tr>\n",
       "      <th>Meldedatum</th>\n",
       "      <td>Datum, wann der Fall dem Gesundheitsamt bekann...</td>\n",
       "      <td>2021/02/01 00:00:00</td>\n",
       "      <td>object</td>\n",
       "    </tr>\n",
       "    <tr>\n",
       "      <th>IdLandkreis</th>\n",
       "      <td>Id des Landkreises</td>\n",
       "      <td>15082</td>\n",
       "      <td>int64</td>\n",
       "    </tr>\n",
       "    <tr>\n",
       "      <th>Datenstand</th>\n",
       "      <td>Datum, wann der Datensatz zuletzt aktualisiert...</td>\n",
       "      <td>14.04.2021, 00:00 Uhr</td>\n",
       "      <td>object</td>\n",
       "    </tr>\n",
       "    <tr>\n",
       "      <th>NeuerFall</th>\n",
       "      <td>Fall ist in Publikation des Vortages enthalten</td>\n",
       "      <td>0</td>\n",
       "      <td>int64</td>\n",
       "    </tr>\n",
       "    <tr>\n",
       "      <th>NeuerTodesfall</th>\n",
       "      <td>Todesfall ist in Publikation des Vortages enth...</td>\n",
       "      <td>-9</td>\n",
       "      <td>int64</td>\n",
       "    </tr>\n",
       "    <tr>\n",
       "      <th>Refdatum</th>\n",
       "      <td>Erkrankungsdatum</td>\n",
       "      <td>2021/01/31 00:00:00</td>\n",
       "      <td>object</td>\n",
       "    </tr>\n",
       "    <tr>\n",
       "      <th>NeuGenesen</th>\n",
       "      <td>Genesung ist in Publikation des Vortages entha...</td>\n",
       "      <td>0</td>\n",
       "      <td>int64</td>\n",
       "    </tr>\n",
       "    <tr>\n",
       "      <th>AnzahlGenesen</th>\n",
       "      <td>Anzahl der Genesenen in der entsprechenden Gruppe</td>\n",
       "      <td>1</td>\n",
       "      <td>int64</td>\n",
       "    </tr>\n",
       "    <tr>\n",
       "      <th>IstErkrankungsbeginn</th>\n",
       "      <td>Ist Refdatum gleich Erkrankungsbeginn</td>\n",
       "      <td>1</td>\n",
       "      <td>int64</td>\n",
       "    </tr>\n",
       "    <tr>\n",
       "      <th>Altersgruppe2</th>\n",
       "      <td>Altersgruppe des Falles aus 5-Jahresgruppen</td>\n",
       "      <td>Nicht übermittelt</td>\n",
       "      <td>object</td>\n",
       "    </tr>\n",
       "  </tbody>\n",
       "</table>\n",
       "</div>"
      ],
      "text/plain": [
       "                                                           beschreibung  \\\n",
       "attribut                                                                  \n",
       "FID                                              Index in der csv-Datei   \n",
       "IdBundesland                                        Id des Bundeslandes   \n",
       "Bundesland                                        Name des Bundeslandes   \n",
       "Landkreis                                          Name des Landkreises   \n",
       "Altersgruppe                      Altersgruppe des Falles aus 6 Gruppen   \n",
       "Geschlecht                                         Geschlecht des Falle   \n",
       "AnzahlFall                Anzahl der Fälle in der entsprechenden Gruppe   \n",
       "AnzahlTodesfall       Anzahl der Todesfälle in der entsprechenden Gr...   \n",
       "Meldedatum            Datum, wann der Fall dem Gesundheitsamt bekann...   \n",
       "IdLandkreis                                          Id des Landkreises   \n",
       "Datenstand            Datum, wann der Datensatz zuletzt aktualisiert...   \n",
       "NeuerFall                Fall ist in Publikation des Vortages enthalten   \n",
       "NeuerTodesfall        Todesfall ist in Publikation des Vortages enth...   \n",
       "Refdatum                                               Erkrankungsdatum   \n",
       "NeuGenesen            Genesung ist in Publikation des Vortages entha...   \n",
       "AnzahlGenesen         Anzahl der Genesenen in der entsprechenden Gruppe   \n",
       "IstErkrankungsbeginn              Ist Refdatum gleich Erkrankungsbeginn   \n",
       "Altersgruppe2               Altersgruppe des Falles aus 5-Jahresgruppen   \n",
       "\n",
       "                                   beispiel datentyp  \n",
       "attribut                                              \n",
       "FID                                 1557496    int64  \n",
       "IdBundesland                             15    int64  \n",
       "Bundesland                   Sachsen-Anhalt   object  \n",
       "Landkreis              LK Anhalt-Bitterfeld   object  \n",
       "Altersgruppe                        A35-A59   object  \n",
       "Geschlecht                                W   object  \n",
       "AnzahlFall                                1    int64  \n",
       "AnzahlTodesfall                           0    int64  \n",
       "Meldedatum              2021/02/01 00:00:00   object  \n",
       "IdLandkreis                           15082    int64  \n",
       "Datenstand            14.04.2021, 00:00 Uhr   object  \n",
       "NeuerFall                                 0    int64  \n",
       "NeuerTodesfall                           -9    int64  \n",
       "Refdatum                2021/01/31 00:00:00   object  \n",
       "NeuGenesen                                0    int64  \n",
       "AnzahlGenesen                             1    int64  \n",
       "IstErkrankungsbeginn                      1    int64  \n",
       "Altersgruppe2             Nicht übermittelt   object  "
      ]
     },
     "metadata": {},
     "output_type": "display_data"
    }
   ],
   "source": [
    "# Eine Zeile des DataFrames \n",
    "attributes_example = df.loc[1557495]\n",
    "\n",
    "# Series mit Attribut und Datentyp\n",
    "attributes_types = df.dtypes\n",
    "\n",
    "# Beschreibung der Attribute (gekürzt)\n",
    "attributes_description = {\n",
    "    'FID': \"Index in der csv-Datei\",\n",
    "    'IdBundesland': \"Id des Bundeslandes\",\n",
    "    'Bundesland': \"Name des Bundeslandes\",\n",
    "    'IdLandkreis': \"Id des Landkreises\",\n",
    "    'Landkreis': \"Name des Landkreises\",\n",
    "    'Altersgruppe': \"Altersgruppe des Falles aus 6 Gruppen\",\n",
    "    'Altersgruppe2': \"Altersgruppe des Falles aus 5-Jahresgruppen\",\n",
    "    'Geschlecht': \"Geschlecht des Falle\",\n",
    "    'AnzahlFall': \"Anzahl der Fälle in der entsprechenden Gruppe\",\n",
    "    'AnzahlTodesfall': \"Anzahl der Todesfälle in der entsprechenden Gruppe\",\n",
    "    'Meldedatum': \"Datum, wann der Fall dem Gesundheitsamt bekannt geworden ist\",\n",
    "    'Datenstand': \"Datum, wann der Datensatz zuletzt aktualisiert worden ist\",\n",
    "    'NeuerFall': \"Fall ist in Publikation des Vortages enthalten\",\n",
    "    'NeuerTodesfall': \"Todesfall ist in Publikation des Vortages enthalten\",\n",
    "    'Refdatum': \"Erkrankungsdatum\",\n",
    "    'AnzahlGenesen': \"Anzahl der Genesenen in der entsprechenden Gruppe\",\n",
    "    'NeuGenesen': \"Genesung ist in Publikation des Vortages enthalten\",\n",
    "    'IstErkrankungsbeginn': \"Ist Refdatum gleich Erkrankungsbeginn\",\n",
    "}\n",
    "\n",
    "\n",
    "attributes_oview = pd.DataFrame(\n",
    "    index=attributes_types.index,\n",
    "    data={\n",
    "        'beschreibung': attributes_description,\n",
    "        'beispiel': attributes_example,\n",
    "        'datentyp': attributes_types.values,\n",
    "         })\n",
    "\n",
    "attributes_oview.index.rename('attribut', inplace=True)\n",
    "\n",
    "display(attributes_oview)"
   ]
  },
  {
   "cell_type": "markdown",
   "metadata": {},
   "source": [
    "Die vollständigen Metadaten sind ebenfalls im [Datenhub des Robert Koch-Institut](https://www.arcgis.com/home/item.html?id=f10774f1c63e40168479a1feb6c7ca74) hinterlegt."
   ]
  },
  {
   "cell_type": "markdown",
   "metadata": {},
   "source": [
    "Deutlich wird die feine Aufgliederung des Datensatzes. Statt die Fallzahlen für jeden Landkreis täglich akkumuliert zu sammeln, werden Fälle einzeln bzw. in kleinen Gruppen gemeldet. So können detailliertere Informationen zu jedem Fall gespeichert werden  (z.B. Alter, Geschlecht, Erkrankungsverlauf)."
   ]
  },
  {
   "cell_type": "markdown",
   "metadata": {},
   "source": [
    "**Raum** <br>\n",
    "<br>Die Fälle werden auf Landkreisebene gemeldet. Zusätzlich ist das entsprechende Bundesland ausgewiesen. Die Bundesrepublik Deutschland hat 16 Bundesländer, 294 Kreise (≙ Landkreis/LK) und 107 kreisfreie Städte (≙ Stadtkreis/SK). Letztere werden im Folgenden unter dem Begriff 'Landkreise' zusammengefasst."
   ]
  },
  {
   "cell_type": "code",
   "execution_count": 6,
   "metadata": {},
   "outputs": [
    {
     "name": "stdout",
     "output_type": "stream",
     "text": [
      "Anzahl der Landkreise im Datensatz: 412\n"
     ]
    }
   ],
   "source": [
    "landkreise_count_sum = df['Landkreis'].nunique()\n",
    "print(f\"Anzahl der Landkreise im Datensatz: {landkreise_count_sum}\")"
   ]
  },
  {
   "cell_type": "markdown",
   "metadata": {},
   "source": [
    "Der Datensatz enthält 11 Landkreise mehr als erwartet. Ein Blick in die Daten zeigt, dass die kreisfreie Stadt Berlin zusätzlich in Bezirke unterteilt wurde. "
   ]
  },
  {
   "cell_type": "code",
   "execution_count": 7,
   "metadata": {},
   "outputs": [
    {
     "name": "stdout",
     "output_type": "stream",
     "text": [
      "Anzahl Berliner Bezirke: 12\n",
      "\n",
      "\n",
      "['SK Berlin Neukölln', 'SK Berlin Mitte', 'SK Berlin Charlottenburg-Wilmersdorf', 'SK Berlin Pankow', 'SK Berlin Friedrichshain-Kreuzberg', 'SK Berlin Tempelhof-Schöneberg', 'SK Berlin Reinickendorf', 'SK Berlin Spandau', 'SK Berlin Lichtenberg', 'SK Berlin Steglitz-Zehlendorf', 'SK Berlin Marzahn-Hellersdorf', 'SK Berlin Treptow-Köpenick']\n"
     ]
    }
   ],
   "source": [
    "landkreise_count_freq = df[\"Landkreis\"].value_counts()\n",
    "berlin_count = landkreise_count_freq[landkreise_count_freq.index.str.contains(\"Berlin\")]\n",
    "berlin_bezirke = berlin_count.index.tolist()\n",
    "print(f\"Anzahl Berliner Bezirke: {len(berlin_bezirke)}\")\n",
    "print(\"\\n\")\n",
    "print(berlin_bezirke)"
   ]
  },
  {
   "cell_type": "markdown",
   "metadata": {},
   "source": [
    "Komprimiert man die Bezirke, dann enthält der Datensatz die 401 Landkreise der Bundesrepublik."
   ]
  },
  {
   "cell_type": "markdown",
   "metadata": {},
   "source": [
    "**Zeit** <br>\n",
    "<br>\n",
    "Das Robert Koch-Institut publiziert die Falldaten seit April 2020. Jedoch sind bereits vorher gemeldete Fälle ebenfalls im Datensatz enthalten."
   ]
  },
  {
   "cell_type": "code",
   "execution_count": 8,
   "metadata": {},
   "outputs": [
    {
     "name": "stdout",
     "output_type": "stream",
     "text": [
      "Datum der ersten Meldung: 2020/01/07 00:00:00\n",
      "Datum der letzten Meldung: 2021/04/13 00:00:00\n",
      "Meldetage insgesamt: 431\n"
     ]
    }
   ],
   "source": [
    "datum_count_freq = df[\"Meldedatum\"].value_counts()\n",
    "datums = datum_count_freq.index.tolist()\n",
    "datums.sort()\n",
    "print(f\"Datum der ersten Meldung: {datums[0]}\")\n",
    "print(f\"Datum der letzten Meldung: {datums[-1]}\")\n",
    "print(f\"Meldetage insgesamt: {len(datums)}\")"
   ]
  },
  {
   "cell_type": "markdown",
   "metadata": {},
   "source": [
    "Im nächsten Notebook sollen die Daten für die Modellierung vorbereitet werden."
   ]
  },
  {
   "cell_type": "code",
   "execution_count": null,
   "metadata": {},
   "outputs": [],
   "source": []
  }
 ],
 "metadata": {
  "kernelspec": {
   "display_name": "Python 3",
   "language": "python",
   "name": "python3"
  },
  "language_info": {
   "codemirror_mode": {
    "name": "ipython",
    "version": 3
   },
   "file_extension": ".py",
   "mimetype": "text/x-python",
   "name": "python",
   "nbconvert_exporter": "python",
   "pygments_lexer": "ipython3",
   "version": "3.8.3"
  }
 },
 "nbformat": 4,
 "nbformat_minor": 4
}
