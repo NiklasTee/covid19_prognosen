{
 "cells": [
  {
   "cell_type": "markdown",
   "metadata": {},
   "source": [
    "# <span style=\"color:#f37726\">07 RKI Model Evaluation</span>"
   ]
  },
  {
   "cell_type": "markdown",
   "metadata": {},
   "source": [
    "**Ziele des Notebooks:**\n",
    "- Benchmarks der Modelle verlgeichen\n",
    "- Stärken und Schwächen der Methoden beschreiben\n",
    "- Mögliche Einflussfaktoren identifizieren\n",
    "- Das beste Vorhersagemodell auswählen\n",
    "- Ausblick über weitere Möglichkeiten zur Optimierung geben"
   ]
  },
  {
   "cell_type": "markdown",
   "metadata": {},
   "source": [
    "## Benchmark"
   ]
  },
  {
   "cell_type": "markdown",
   "metadata": {},
   "source": [
    "Die folgende Tabelle fasst die Ergebnisse der Modelle in den durchgeführten Vorhersagen zusammen (eine pdf-Datei mit höherer Auflösung befindet sich im 'visualization'-Ordner):"
   ]
  },
  {
   "cell_type": "markdown",
   "metadata": {},
   "source": [
    "![Benchmark](visualization/rki_evaluation_benchmark.png)"
   ]
  },
  {
   "cell_type": "markdown",
   "metadata": {},
   "source": [
    "Je Zeile ist das Modell hervorgehoben, welches die besten Evaluierungsmaße erreicht hat. Sowohl bei der Single-Period-Vorhersage als auch bei der Multi-Period-Vorhersage hat das RNN am öftesten die besten Werte erreicht. Bei der Total-Period-Vorhersage hat überraschenderweise das naive Modell am Besten abgeschnitten. Es folgt eine kurze Auswertung für jedes Modell:"
   ]
  },
  {
   "cell_type": "markdown",
   "metadata": {},
   "source": [
    "**1) Naïve / SNaïve**"
   ]
  },
  {
   "cell_type": "markdown",
   "metadata": {},
   "source": [
    "Die konservative Vorhersage ohne Berücksichtung von Trends ist nicht per se schlecht. Insbesondere wenn die Zeitreihe stationär  und der Vorhersagezeitraum lang ist, kann der Ansatz es mit komplexen Vorhersagemodellen aufnehmen. Da von den Fallzahlen der Vortage abstrahiert wird (nur Wert der letzten Woche), sind die kurzfristigen Vorhersagen eher ungenau."
   ]
  },
  {
   "cell_type": "markdown",
   "metadata": {},
   "source": [
    "**2) SNaïve mit wöchentlicher Trendkomponente**"
   ]
  },
  {
   "cell_type": "markdown",
   "metadata": {},
   "source": [
    "Die Ergebnisse des naiven Modells mit wöchentlicher Trendkomponente wurden durch gelegentliche Ausreißer bei der Vorhersage verzerrt. Außergewöhnlich starke Veränderungen der Fallzahlen, zum Beispiel durch Feiertage, hatten vereinzelt enormen Einfluss auf die Vorhersage. Glättungsfaktoren oder Minimal- bzw. Maximalwertbegrenzungen könnten hier die Vorhersagegüte verbessern."
   ]
  },
  {
   "cell_type": "markdown",
   "metadata": {},
   "source": [
    "**3) Exponentielle Glättung**"
   ]
  },
  {
   "cell_type": "markdown",
   "metadata": {},
   "source": [
    "Die Vorhersagen des  Glättungsmodells 1. Ordnung waren im Durchschnitt am ungenauesten.Der Glättungsfaktor 𝛼 wäre Ansatzpunkt für eine Optimierung. Glättungsmodelle 2. Ordnung berücksichtigen zudem Trends bei der Prognose und hätten auf dem Datensatz eventuell besser performt."
   ]
  },
  {
   "cell_type": "markdown",
   "metadata": {},
   "source": [
    "**4) ARIMA**"
   ]
  },
  {
   "cell_type": "markdown",
   "metadata": {},
   "source": [
    "Das Autoregressive-moving-average Modell konnte mit den Leistungen der maschinellen Lernmodelle mithalten, obwohl es eigentlich nicht für stationäre Zeitreihen optimiert ist. Durch die nötige Trendbereinigung, könnte Prognosegüte verlorengegangen sein."
   ]
  },
  {
   "cell_type": "markdown",
   "metadata": {},
   "source": [
    "**5) & 6) MLP**"
   ]
  },
  {
   "cell_type": "markdown",
   "metadata": {},
   "source": [
    "Die Ergebnisse zeigen, dass bereits simple Netzstrukturen in der Lage sind, Zeitreihen gut anzunähern. Die Komplexität von mehrschichtigen Perzeptren lässt sich dabei durch zusätzliche Eingabevariablen erhöhen. So hat das Hinzufügen der Clusteringsergebnisse die Vorhersagegenauigkeit leicht verbessert. Offen bleibt, wie der Einfluss ökonomischer und soziodemographischer Faktoren gewesen wäre, hätte man die Daten des Statistischen Bundesamtes direkt dem MLP übergeben. Geographische Faktoren, wie zum Beispiel die Nachbarschaft der Landkreise untereinander oder Grenzen zu anderen Ländern, sind ein weiterer Ansatzpunkt, der im Umfang dieses Projektes nicht untersucht werden konnte."
   ]
  },
  {
   "cell_type": "markdown",
   "metadata": {},
   "source": [
    "Während des Lernens ist aufgefallen, dass zu viele Trainingsbeispiele mit null Fällen als Zielvariable, die Vorhersage auf den Testdaten verzerren. Da die zeitliche Anordnung der Daten für ein MLP nicht relevant ist konnten diese entfernt werden. Die Vorhersagen für Landkreise mit den absolut höchsten Fallzahlen waren eher ungenau. Dies lässt sich durch deren Unterrepräsentation in den Trainingsdaten erklären. Hier wäre ein Feature Scaling angebracht gewesen."
   ]
  },
  {
   "cell_type": "markdown",
   "metadata": {},
   "source": [
    "**7) RNN**"
   ]
  },
  {
   "cell_type": "markdown",
   "metadata": {},
   "source": [
    "Die LSTM-Zelle als komplexestes Modell hat die besten Evaluierungswerte auf den Testdaten erreicht. Das hier angewendete Feature Scaling hatte daran jedoch wahrscheinlich erheblichen Anteil. Es lässt sich daher nicht mit Sicherheit sagen, ob die Performanz durch die Modellarchitektur oder die Datenvorverarbeitung erreicht wurde. Die These *More data usually beats better algorithm* scheint hier zu halten. Allgemein gelingt es Rekurrenten Neuronalen Netzen nicht, statische Features, wie zum Beispiel die demographischen Information zu den Landkreisen, mit in die Vorhersage einzubeziehen (vgl. [Miebs et al. 2020](https://www.researchgate.net/publication/338964048_Efficient_Strategies_of_Static_Features_Incorporation_into_the_Recurrent_Neural_Network)). Alternativ hätte man hier ein Auxiliary Layer (für den statischen Eingabevektor) in einer späteren Netzschicht einfügen können."
   ]
  },
  {
   "cell_type": "markdown",
   "metadata": {},
   "source": [
    "## Zusammenfassung"
   ]
  },
  {
   "cell_type": "markdown",
   "metadata": {},
   "source": [
    "Es lässt sich festhalten, dass mit den genutzen Modellen und Methoden mehr in die breite als in die tiefe Modellbildung gearbeitet wurde. Die Parameter der Modelle wurden größtenteils stichprobenhaft optimiert. Mit einer Grid Search wäre hier sicherlich noch Potenzial entfaltbar gewesen. Unsere begrenzte Vorerfahrung im Umgang mit Zeitreihendaten machten diesen generischen Ansatz jedoch notwendig. Das Projekt versteht sich daher als Einstieg und Überblick in die Vorhersage von Zeitreihen."
   ]
  },
  {
   "cell_type": "markdown",
   "metadata": {},
   "source": [
    "Aufgrund der eher simplen Modellarchitekturen und der begrenzten Vielfalt an genutzten Daten liegt es Nahe, dass die Modelle stärker zu Under- als zu Overfitting neigen. Bei den maschinellen Lernmodellen wurde die Trainingsepochenanzahl (manuell) so gewählt, dass das Training (ungefähr) bei Stagnation des Trainingsfehlers endet. Eine automatische Early-Stopping-Implementierung wäre angebrachter gewesen."
   ]
  },
  {
   "cell_type": "markdown",
   "metadata": {},
   "source": [
    "Erwähnenswert ist zudem, dass die Woche der Multi-Period-Vorhersage neben einem Wochenende noch zwei weitere Feiertage enthält - Karfreitag und Ostermontag. Die Anzahl gemeldeter Fälle während arbeitsfreien Tagen ist niedriger, da Testzentren und Gesundheitsämter während dieser Zeit nur eingeschränkt arbeiten. Dies könnte die Evaluierungsergebnisse zum Vorzug von Modellen mit eher niedrigen Fallzahlen-Vorhersagen verzerrt haben."
   ]
  },
  {
   "cell_type": "markdown",
   "metadata": {},
   "source": [
    "Das RNN-Modell wird für die die weitere Verwendung in einer Webanwendung ausgewählt."
   ]
  },
  {
   "cell_type": "code",
   "execution_count": null,
   "metadata": {},
   "outputs": [],
   "source": []
  }
 ],
 "metadata": {
  "kernelspec": {
   "display_name": "Python 3",
   "language": "python",
   "name": "python3"
  },
  "language_info": {
   "codemirror_mode": {
    "name": "ipython",
    "version": 3
   },
   "file_extension": ".py",
   "mimetype": "text/x-python",
   "name": "python",
   "nbconvert_exporter": "python",
   "pygments_lexer": "ipython3",
   "version": "3.8.3"
  }
 },
 "nbformat": 4,
 "nbformat_minor": 4
}
