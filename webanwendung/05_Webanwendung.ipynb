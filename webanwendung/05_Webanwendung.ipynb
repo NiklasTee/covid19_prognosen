{
 "cells": [
  {
   "cell_type": "markdown",
   "metadata": {},
   "source": [
    "<div style=\" \">\n",
    "    <div style=\"position:absolute; bottom:68px; left:25px;\">\n",
    "        <h2 style=\"margin:5px 5px 5px 15px;padding-left:10px\">Hochshule Anhalt</h2>\n",
    "    </div>\n",
    "    <div style=\"float:left;\">\n",
    "        <img src=\"telegroum.com/imgJup/hsLogo.JPG\" alt=\"\" style=\"width:300px;\">\n",
    "    </div>   \n",
    "    <div style=\"float:left; padding-left: 20px;background-color:#e7e9eb;\">\n",
    "        <h1 style=\"font-family: new times roman\">Projekt Data Science 1</h1>\n",
    "        <h6 style=\"font-family: new times roman; margin-left:20px;\">Student: Amer Goli</h6>\n",
    "    </div>\n",
    "    <div style=\" display:block;margin-left: 20px;\">\n",
    "    </div>\n",
    "</div>\n",
    "\n",
    "<div style=\"background-color:#e7e9eb;\">\n",
    "    </br>\n",
    "    </br>\n",
    "    \n",
    "   <h1 style=\"text-align:center;font-family: new times roman; font-size:2.8em\">Webanwendung</h1>\n",
    "   \n",
    "\n",
    "   </br>  </br> </br>  </br> </br>  </br> \n",
    "</div>\n",
    "\n",
    "\n",
    "\n"
   ]
  },
  {
   "cell_type": "markdown",
   "metadata": {},
   "source": [
    "# Webanwendung\n",
    "- Frontend\n",
    "- Backend\n",
    "- Database\n",
    "- Genutzte Services\n",
    " "
   ]
  },
  {
   "cell_type": "markdown",
   "metadata": {},
   "source": [
    "#### Backend\n",
    "Backend der Webanwendung (www.telegroum.com) wurde mit PHP entwickelt. Die zu präsentierenden Daten sind in einer Mysql Datenbank gespeichert, wozu mit PHP direkt zuzugreifen kann. Die Requests werden jenach _Post-Request bearbeitet.\n",
    "\n",
    "Es werden nur zwei Requests bearbeitet:\n",
    "\n",
    "    1. Post-Request für Ausgabe der zugehörigen Landkreisen eines Bundeslandes.\n",
    "    2. Post-Request für Ausgabe der zugehörigen Daten eines landkreises.\n",
    "\n",
    "#### Frontend\n",
    "Für Frontend sind Javascript und Jquery genutzt. Für Styling ist Bootstrap (ein Front-End CSS framework) verwendet. Auf der Webseite gibt es lediglich zwei Dropdownlists, womit die Informationen gezeigt werden. Diese Dropdownlists lösen jeweils Eigene Events, die mit Javascript und Jquery bearbeitet und schließlich als HTTP Request zum Server geschickt werden.\n",
    "Die folgende Graf zeigt, wie die Requests mit AJAX bearbeitet werden.\n",
    "\n"
   ]
  },
  {
   "cell_type": "markdown",
   "metadata": {},
   "source": [
    "\n",
    "<div style=\"\">\n",
    "     <div style=\"\">\n",
    "          <img src=\"img/General-Sequence-of-Ajax-Request.png\" alt=\"\" class=\"\">\n",
    "     </div>\n",
    "     <div style=\"\"></div>\n",
    "</div>"
   ]
  },
  {
   "cell_type": "markdown",
   "metadata": {},
   "source": [
    "Für die Visualisierung wurde mit Javascript-Bibliothek Canvasjs gearbeitet."
   ]
  },
  {
   "cell_type": "markdown",
   "metadata": {},
   "source": [
    "#### Datenbank\n",
    "Der Webseite ist eine Datenbank zur Vefügung gestellt. Diese enthält die Prognosedaten für 7 Tagen je Landkreis. \n",
    "<img src=\"img/datenbank.jpg\" alt=\"\" class=\"\">\n"
   ]
  },
  {
   "cell_type": "markdown",
   "metadata": {},
   "source": [
    "#### Verwendete Services\n",
    "\n",
    "<div style=\"float:left\">\n",
    "    <ul class=\"\">\n",
    "        <li style=\"padding:15px;\">Visual Studio Code: Fornt und Back-End</li>\n",
    "        <li style=\"padding:15px;\">Filezilla: Dateitransport </li>\n",
    "        <li style=\"padding:15px;\">Plesk: Web Hosting and Server Data Center</li>\n",
    "        <li style=\"padding:15px;\">phpMyAdmin: Datenbank bearbeiten </li>\n",
    "        <li style=\"padding:15px;\">XAMPP: Webserver Apache und Datenbank MySql </li>\n",
    "    </ul>\n",
    "    \n",
    "</div>\n",
    "<div >\n",
    "    <div style=\"\">\n",
    "        <img src=\"img/visual-studio-code.jpg\" alt=\"\" width=\"70px\">\n",
    "    </div>\n",
    "    <div style=\"\">\n",
    "        <img src=\"img/filezilla.jpg\" alt=\"\" width=\"70px\">\n",
    "    </div>\n",
    "    <div style=\"\">\n",
    "        <img src=\"img/plesk.jpg\" alt=\"\" width=\"70px\">\n",
    "    </div>\n",
    "    <div style=\"\">\n",
    "        <img src=\"img/phpmy.jpg\" alt=\"\" width=\"70px\">\n",
    "    </div>\n",
    "    <div style=\"\">\n",
    "        <img src=\"img/xampp.png\" alt=\"\" width=\"70px\">\n",
    "    </div>\n",
    "</div>\n",
    "\n",
    "     "
   ]
  }
 ],
 "metadata": {
  "kernelspec": {
   "display_name": "Python 3",
   "language": "python",
   "name": "python3"
  },
  "language_info": {
   "codemirror_mode": {
    "name": "ipython",
    "version": 3
   },
   "file_extension": ".py",
   "mimetype": "text/x-python",
   "name": "python",
   "nbconvert_exporter": "python",
   "pygments_lexer": "ipython3",
   "version": "3.8.3"
  }
 },
 "nbformat": 4,
 "nbformat_minor": 5
}
